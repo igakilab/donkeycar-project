{
 "cells": [
  {
   "cell_type": "markdown",
   "metadata": {},
   "source": [
    "タグ間にまたがって利用されている変数を変更する"
   ]
  },
  {
   "cell_type": "code",
   "execution_count": null,
   "metadata": {},
   "outputs": [],
   "source": [
    "# snanpshotメソッドを呼び出し、撮った画像をC_FREE_DIRに保存するメソッドの追加\n",
    "def save_free():\n",
    "    global C_FREE_DIR\n",
    "    save_snapshot(C_FREE_DIR)\n",
    "    \n",
    "# snanpshotメソッドを呼び出し、撮った画像をC_BLOCKED_DIRに保存するメソッドの追加\n",
    "def save_blocked():\n",
    "    global C_BLOCKED_DIR\n",
    "    save_snapshot(C_BLOCKED_DIR)\n",
    "    "
   ]
  },
  {
   "cell_type": "code",
   "execution_count": null,
   "metadata": {},
   "outputs": [],
   "source": [
    "save_blocked()"
   ]
  }
 ],
 "metadata": {
  "kernelspec": {
   "display_name": "Python 3",
   "language": "python",
   "name": "python3"
  },
  "language_info": {
   "codemirror_mode": {
    "name": "ipython",
    "version": 3
   },
   "file_extension": ".py",
   "mimetype": "text/x-python",
   "name": "python",
   "nbconvert_exporter": "python",
   "pygments_lexer": "ipython3",
   "version": "3.6.8"
  }
 },
 "nbformat": 4,
 "nbformat_minor": 2
}
