{
 "cells": [
  {
   "cell_type": "markdown",
   "metadata": {},
   "source": [
    "タグ間にまたがって利用されている変数を変更する"
   ]
  },
  {
   "cell_type": "code",
   "execution_count": null,
   "metadata": {},
   "outputs": [],
   "source": [
    "def save_free():\n",
    "    global C_FREE_DIR\n",
    "    save_snapshot(C_FREE_DIR)\n",
    "    \n",
    "    \n",
    "def save_blocked():\n",
    "    global C_BLOCKED_DIR\n",
    "    save_snapshot(C_BLOCKED_DIR)\n",
    "    "
   ]
  }
 ],
 "metadata": {
  "kernelspec": {
   "display_name": "Python 3",
   "language": "python",
   "name": "python3"
  },
  "language_info": {
   "codemirror_mode": {
    "name": "ipython",
    "version": 3
   },
   "file_extension": ".py",
   "mimetype": "text/x-python",
   "name": "python",
   "nbconvert_exporter": "python",
   "pygments_lexer": "ipython3",
   "version": "3.6.8"
  }
 },
 "nbformat": 4,
 "nbformat_minor": 2
}
