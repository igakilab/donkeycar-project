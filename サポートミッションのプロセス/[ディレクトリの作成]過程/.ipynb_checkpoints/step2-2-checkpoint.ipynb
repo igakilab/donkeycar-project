{
 "cells": [
  {
   "cell_type": "markdown",
   "metadata": {},
   "source": [
    "タグ間をまたがる変数の利用は特徴をつける"
   ]
  },
  {
   "cell_type": "code",
   "execution_count": null,
   "metadata": {},
   "outputs": [],
   "source": [
    "import os\n",
    "\n",
    "# 作成するディレクトリを指定している\n",
    "C_BLOCKED_DIR = 'dataset/blocked'\n",
    "C_FREE_DIR = 'dataset/free'\n",
    "\n",
    "\n",
    "try:\n",
    "    #ディレクトリを作成する\n",
    "    os.makedirs(C_FREE_DIR)\n",
    "    os.makedirs(C_BLOCKED_DIR)\n",
    "except FileExistsError:\n",
    "    print('Directories not created becasue they already exist')"
   ]
  }
 ],
 "metadata": {
  "kernelspec": {
   "display_name": "Python 3",
   "language": "python",
   "name": "python3"
  },
  "language_info": {
   "codemirror_mode": {
    "name": "ipython",
    "version": 3
   },
   "file_extension": ".py",
   "mimetype": "text/x-python",
   "name": "python",
   "nbconvert_exporter": "python",
   "pygments_lexer": "ipython3",
   "version": "3.6.8"
  }
 },
 "nbformat": 4,
 "nbformat_minor": 2
}
