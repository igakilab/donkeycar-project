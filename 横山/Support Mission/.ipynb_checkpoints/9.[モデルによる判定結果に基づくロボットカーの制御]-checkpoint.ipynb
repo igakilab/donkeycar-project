{
 "cells": [
  {
   "cell_type": "markdown",
   "metadata": {},
   "source": [
    "<div style=\"padding: 10px; margin-bottom: 10px; border: 1px solid #333333;\">\n",
    "    \n",
    "## Support Mission 9 ［モデルによる判定結果に基づくロボットカーの制御］\n",
    "- このSupport Missionでは，Support Mission 6で作成したモデルに基づいて，カメラに写っている状況がfreeである確率と<br>\n",
    "  blockedである確率を取得し，その確率を使ってロボットの制御を行います．\n",
    "    \n",
    "#### 完了の定義\n",
    "- JetBotが赤いレゴブロックを検知したときに停止する．\n",
    "- JetBotが赤いレゴブロックを検知していないときに前進する．"
   ]
  },
  {
   "cell_type": "markdown",
   "metadata": {},
   "source": [
    "## 再利用タグ：[ロボットの制御]，[モデルによる撮影画像の判定]"
   ]
  },
  {
   "cell_type": "markdown",
   "metadata": {},
   "source": [
    "## <span style=\"color: red; \">NEW</span> タグ：[モデルによる判定結果に基づくロボットカーの制御]"
   ]
  },
  {
   "cell_type": "code",
   "execution_count": null,
   "metadata": {},
   "outputs": [],
   "source": [
    "import torch.nn.functional as F\n",
    "import time\n",
    "\n",
    "def update(change):\n",
    "    global C_ROBOT\n",
    "    x = change['new'] \n",
    "    x = preprocess(x)\n",
    "    y = C_MODEL(x)\n",
    "        \n",
    "    y = F.softmax(y, dim=1)\n",
    "\n",
    "    # 重要！\n",
    "    # 下記のプログラムでblockedの確率を取得している\n",
    "    # datasetディレクトリ内では上がblockedディレクトリ,下がfreeディレクトリになっている\n",
    "    # つまり，blockedの確率を取得したい場合[0]番目にその値が入っており，freeの確率を取得したい場合[1]番目その値が入っている\n",
    "    # blockedよりも上にディレクトリが作成された場合は，そのディレクトリの確率が[0]に入っていることになる\n",
    "    # 確率prob_blockedは 0 < prob_blocked <= 1 である\n",
    "    prob_blocked = float(y.flatten()[0])\n",
    "    \n",
    "    if prob_blocked > 0.5:\n",
    "        C_ROBOT.stop()\n",
    "    else:\n",
    "        C_ROBOT.forward(speed = 0.3)\n",
    "\n",
    "    time.sleep(0.001)\n",
    "    \n",
    "update({'new': C_CAMERA.value}) "
   ]
  },
  {
   "cell_type": "markdown",
   "metadata": {},
   "source": [
    "- ロボットを停止させます．"
   ]
  },
  {
   "cell_type": "code",
   "execution_count": null,
   "metadata": {},
   "outputs": [],
   "source": [
    "C_CAMERA.unobserve(update, names='value')\n",
    "C_ROBOT.stop()"
   ]
  },
  {
   "cell_type": "markdown",
   "metadata": {},
   "source": [
    "- カメラを切断します．"
   ]
  },
  {
   "cell_type": "code",
   "execution_count": null,
   "metadata": {},
   "outputs": [],
   "source": [
    "C_CAMERA_LINK.unlink()  # don't stream to browser (will still run camera)"
   ]
  },
  {
   "cell_type": "code",
   "execution_count": null,
   "metadata": {},
   "outputs": [],
   "source": [
    "C_CAMERA_LINK.link()  # stream to browser (wont run camera)"
   ]
  }
 ],
 "metadata": {
  "kernelspec": {
   "display_name": "Python 3",
   "language": "python",
   "name": "python3"
  },
  "language_info": {
   "codemirror_mode": {
    "name": "ipython",
    "version": 3
   },
   "file_extension": ".py",
   "mimetype": "text/x-python",
   "name": "python",
   "nbconvert_exporter": "python",
   "pygments_lexer": "ipython3",
   "version": "3.6.8"
  }
 },
 "nbformat": 4,
 "nbformat_minor": 2
}
