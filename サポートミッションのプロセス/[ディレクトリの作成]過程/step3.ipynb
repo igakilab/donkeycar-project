{
 "cells": [
  {
   "cell_type": "markdown",
   "metadata": {},
   "source": [
    " <div style=\"padding: 10px; margin-bottom: 10px; border: 1px solid #333333;\">\n",
    "    \n",
    "# support mission   \n",
    "### このsupport mission ではディレクトリの作成を行います\n",
    "\n",
    "## <span style=\"color: red; \">NEW</span> カテゴリ：[ディレクトリの作成]\n",
    "\n",
    "## 完了の定義：このファイルと同じディレクトリ内にdataset、その下にfree、blockedディレクトリが作成されていること\n",
    "\n",
    "</div>\n"
   ]
  },
  {
   "cell_type": "code",
   "execution_count": null,
   "metadata": {},
   "outputs": [],
   "source": [
    "import os\n",
    "\n",
    "# 作成するディレクトリを指定している\n",
    "C_BLOCKED_DIR = 'dataset/blocked'\n",
    "C_FREE_DIR = 'dataset/free'\n",
    "\n",
    "\n",
    "try:\n",
    "    #ディレクトリを作成する\n",
    "    os.makedirs(C_FREE_DIR)\n",
    "    os.makedirs(C_BLOCKED_DIR)\n",
    "except FileExistsError:\n",
    "    print('Directories not created becasue they already exist')"
   ]
  }
 ],
 "metadata": {
  "kernelspec": {
   "display_name": "Python 3",
   "language": "python",
   "name": "python3"
  },
  "language_info": {
   "codemirror_mode": {
    "name": "ipython",
    "version": 3
   },
   "file_extension": ".py",
   "mimetype": "text/x-python",
   "name": "python",
   "nbconvert_exporter": "python",
   "pygments_lexer": "ipython3",
   "version": "3.6.8"
  }
 },
 "nbformat": 4,
 "nbformat_minor": 2
}
