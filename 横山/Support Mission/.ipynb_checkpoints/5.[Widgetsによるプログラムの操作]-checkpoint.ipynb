{
 "cells": [
  {
   "cell_type": "markdown",
   "metadata": {},
   "source": [
    "<div style=\"padding: 10px; margin-bottom: 10px; border: 1px solid #333333;\">\n",
    "    \n",
    "## Support Mission 5 ［Widgetsによるプログラムの操作］\n",
    "- このSupport MissionではWidgetsによるプログラムの操作を行います．\n",
    "- すべてのセルを実行後，add freeボタンを押してオブジェクトが写っていない画像を40枚，<br>\n",
    "  add blockedボタンを押して赤いレゴブロックが写った画像を40枚撮影してください．\n",
    "    \n",
    "#### 完了の定義\n",
    "- 作成した各ボタンが押されたとき，指定した各ディレクトリに画像が保存されている．\n",
    "- freeディレクトリ内にオブジェクトが写っていない画像が40枚保存されている．\n",
    "- blockedディレクトリ内に赤いレゴブロックが写った画像が40枚保存されている．"
   ]
  },
  {
   "cell_type": "markdown",
   "metadata": {},
   "source": [
    "## 再利用タグ：[画像表示]，[ディレクトリの作成]，[画像の保存]，[画像のラベル付け]"
   ]
  },
  {
   "cell_type": "markdown",
   "metadata": {},
   "source": [
    "## <span style=\"color: red; \">NEW</span> タグ：[Widgetsによるプログラムの操作]"
   ]
  },
  {
   "cell_type": "code",
   "execution_count": null,
   "metadata": {},
   "outputs": [],
   "source": [
    "# 撮影ボタンの作成\n",
    "button_layout = widgets.Layout(width='128px', height='48px')\n",
    "\n",
    "# ボタンのレイアウトの設定\n",
    "free_button = widgets.Button(description='add free', button_style='success', layout=button_layout)\n",
    "blocked_button = widgets.Button(description='add blocked', button_style='danger', layout=button_layout)\n",
    "\n",
    "# freeボタンが押されたときsave_freeメソッド，blockedボタンが押されたときsave_blockedメソッドが呼ばれるようにする\n",
    "free_button.on_click(lambda x: save_free())\n",
    "blocked_button.on_click(lambda x: save_blocked())\n",
    "\n",
    "# 撮影用ボタンの表示\n",
    "display(widgets.HBox([free_button]))\n",
    "display(widgets.HBox([blocked_button]))"
   ]
  }
 ],
 "metadata": {
  "kernelspec": {
   "display_name": "Python 3",
   "language": "python",
   "name": "python3"
  },
  "language_info": {
   "codemirror_mode": {
    "name": "ipython",
    "version": 3
   },
   "file_extension": ".py",
   "mimetype": "text/x-python",
   "name": "python",
   "nbconvert_exporter": "python",
   "pygments_lexer": "ipython3",
   "version": "3.6.8"
  }
 },
 "nbformat": 4,
 "nbformat_minor": 2
}
