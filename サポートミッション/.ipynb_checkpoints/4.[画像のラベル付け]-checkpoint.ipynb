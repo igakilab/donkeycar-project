{
 "cells": [
  {
   "cell_type": "markdown",
   "metadata": {},
   "source": [
    "<div style=\"padding: 10px; margin-bottom: 10px; border: 1px solid #333333;\">\n",
    "\n",
    "## Support Mission 4 ［画像のラベル付け］\n",
    "- このSupport Missionでは画像のラベル付けを行います．\n",
    "    \n",
    "#### 完了の定義\n",
    "- freeディレクトリ内にオブジェクトが写っていない画像が保存されている．\n",
    "- blockedディレクトリ内に赤いレゴブロックが写った画像が保存されている．"
   ]
  },
  {
   "cell_type": "markdown",
   "metadata": {},
   "source": [
    "## 再利用タグ：[画像表示]，[ディレクトリの作成]，[画像の保存]"
   ]
  },
  {
   "cell_type": "code",
   "execution_count": 1,
   "metadata": {},
   "outputs": [
    {
     "data": {
      "application/vnd.jupyter.widget-view+json": {
       "model_id": "a905b83327494f68a38bc388c43bb0ca",
       "version_major": 2,
       "version_minor": 0
      },
      "text/plain": [
       "Image(value=b'\\xff\\xd8\\xff\\xe0\\x00\\x10JFIF\\x00\\x01\\x01\\x00\\x00\\x01\\x00\\x01\\x00\\x00\\xff\\xdb\\x00C\\x00\\x02\\x01\\x0…"
      ]
     },
     "metadata": {},
     "output_type": "display_data"
    }
   ],
   "source": [
    "import traitlets\n",
    "import ipywidgets.widgets as widgets\n",
    "from jetbot import Camera, bgr8_to_jpeg\n",
    "\n",
    "# カメラからの映像の表示サイズを設定\n",
    "C_IMAGE = widgets.Image(format='jpeg', width=224, height=224)\n",
    "\n",
    "# 撮影される画像サイズの設定\n",
    "C_CAMERA = Camera.instance(width=224, height=224)\n",
    "C_CAMERA_LINK = traitlets.dlink((C_CAMERA, 'value'), (C_IMAGE, 'value'), transform=bgr8_to_jpeg)\n",
    "\n",
    "# カメラからの映像を表示\n",
    "display(C_IMAGE)"
   ]
  },
  {
   "cell_type": "code",
   "execution_count": 2,
   "metadata": {},
   "outputs": [],
   "source": [
    "import os\n",
    "\n",
    "# 作成するディレクトリを指定\n",
    "C_FREE_DIR = 'dataset/free'\n",
    "C_BLOCKED_DIR = 'dataset/blocked'\n",
    "\n",
    "try:\n",
    "    # ディレクトリを作成\n",
    "    os.makedirs(C_FREE_DIR)\n",
    "    os.makedirs(C_BLOCKED_DIR)\n",
    "except FileExistsError:\n",
    "    print('Directories not created becasue they already exist')"
   ]
  },
  {
   "cell_type": "code",
   "execution_count": 6,
   "metadata": {},
   "outputs": [],
   "source": [
    "from uuid import uuid1\n",
    "import os\n",
    "\n",
    "def save_snapshot(directory):\n",
    "    image_path = os.path.join(directory, str(uuid1()) + '.jpg')\n",
    "    with open(image_path, 'wb') as f:\n",
    "        f.write(C_IMAGE.value)"
   ]
  },
  {
   "cell_type": "markdown",
   "metadata": {},
   "source": [
    "## <span style=\"color: red; \">NEW</span> タグ：[画像のラベル付け]"
   ]
  },
  {
   "cell_type": "markdown",
   "metadata": {},
   "source": [
    "再利用時の注意事項\n",
    "> ####で囲まれているセルは再利用時には必要ありません．<br>\n",
    "コードを再利用するときは使用しないようにしてください．"
   ]
  },
  {
   "cell_type": "code",
   "execution_count": 7,
   "metadata": {},
   "outputs": [],
   "source": [
    "# snanpshotメソッドを呼び出し，撮った画像をC_FREE_DIRに保存するメソッドの追加\n",
    "def save_free():\n",
    "    global C_FREE_DIR\n",
    "    save_snapshot(C_FREE_DIR)\n",
    "    \n",
    "# snanpshotメソッドを呼び出し，撮った画像をC_BLOCKED_DIRに保存するメソッドの追加\n",
    "def save_blocked():\n",
    "    global C_BLOCKED_DIR\n",
    "    save_snapshot(C_BLOCKED_DIR)"
   ]
  },
  {
   "cell_type": "markdown",
   "metadata": {},
   "source": [
    "- 次のセルを実行するとfreeディレクトリに画像が保存されます．\n",
    "- オブジェクトが写っていないのを確認してから実行してください．"
   ]
  },
  {
   "cell_type": "code",
   "execution_count": 5,
   "metadata": {},
   "outputs": [],
   "source": [
    "###########\n",
    "save_free()\n",
    "###########"
   ]
  },
  {
   "cell_type": "markdown",
   "metadata": {},
   "source": [
    "- 次のセルを実行するとblockedディレクトリに画像が保存されます．\n",
    "- 赤いレゴブロックが写っているのを確認してから実行してください．"
   ]
  },
  {
   "cell_type": "code",
   "execution_count": 8,
   "metadata": {},
   "outputs": [],
   "source": [
    "##############\n",
    "save_blocked()\n",
    "##############"
   ]
  },
  {
   "cell_type": "code",
   "execution_count": null,
   "metadata": {},
   "outputs": [],
   "source": []
  }
 ],
 "metadata": {
  "kernelspec": {
   "display_name": "Python 3",
   "language": "python",
   "name": "python3"
  },
  "language_info": {
   "codemirror_mode": {
    "name": "ipython",
    "version": 3
   },
   "file_extension": ".py",
   "mimetype": "text/x-python",
   "name": "python",
   "nbconvert_exporter": "python",
   "pygments_lexer": "ipython3",
   "version": "3.6.8"
  }
 },
 "nbformat": 4,
 "nbformat_minor": 2
}
