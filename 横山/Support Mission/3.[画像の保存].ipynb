{
 "cells": [
  {
   "cell_type": "markdown",
   "metadata": {},
   "source": [
    "<div style=\"padding: 10px; margin-bottom: 10px; border: 1px solid #333333;\">\n",
    "    \n",
    "## Support Mission 3 ［画像の保存］\n",
    "- このSupport MissionではJetBotのカメラで画像を撮影し，pathで指定した場所に画像を保存します．\n",
    "    \n",
    "#### 完了の定義\n",
    "- Support Missionディレクトリ内に撮影した画像が保存されている．"
   ]
  },
  {
   "cell_type": "markdown",
   "metadata": {},
   "source": [
    "## 再利用タグ：[画像表示]"
   ]
  },
  {
   "cell_type": "markdown",
   "metadata": {},
   "source": [
    "## <span style=\"color: red; \">NEW</span> タグ：[画像の保存]"
   ]
  },
  {
   "cell_type": "markdown",
   "metadata": {},
   "source": [
    "再利用時の注意事項\n",
    "> ####で囲まれているセルは再利用時には必要ありません．<br>\n",
    "コードを再利用するときは使用しないようにしてください．"
   ]
  },
  {
   "cell_type": "code",
   "execution_count": null,
   "metadata": {},
   "outputs": [],
   "source": [
    "from uuid import uuid1\n",
    "import os\n",
    "\n",
    "def save_snapshot(directory):\n",
    "    image_path = os.path.join(directory, str(uuid1()) + '.jpg')\n",
    "    with open(image_path, 'wb') as f:\n",
    "        f.write(C_IMAGE.value)"
   ]
  },
  {
   "cell_type": "markdown",
   "metadata": {},
   "source": [
    "- 次のセルを実行するとpathで指定した場所に画像が保存されます．\n",
    "- セルを実行する前に好きなものをカメラで写してから撮影してみましょう．"
   ]
  },
  {
   "cell_type": "code",
   "execution_count": null,
   "metadata": {},
   "outputs": [],
   "source": [
    "###################################################\n",
    "path='/home/donkeycar-project/横山/Support Mission'\n",
    "save_snapshot(path)\n",
    "###################################################"
   ]
  }
 ],
 "metadata": {
  "kernelspec": {
   "display_name": "Python 3",
   "language": "python",
   "name": "python3"
  },
  "language_info": {
   "codemirror_mode": {
    "name": "ipython",
    "version": 3
   },
   "file_extension": ".py",
   "mimetype": "text/x-python",
   "name": "python",
   "nbconvert_exporter": "python",
   "pygments_lexer": "ipython3",
   "version": "3.6.8"
  }
 },
 "nbformat": 4,
 "nbformat_minor": 2
}
