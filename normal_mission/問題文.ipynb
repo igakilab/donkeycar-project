{
 "cells": [
  {
   "cell_type": "markdown",
   "metadata": {},
   "source": [
    "<div style=\"padding: 10px; margin-bottom: 10px; border: 1px solid #333333;\">\n",
    "    \n",
    "# normal mission 1\n",
    "    \n",
    "# collision avoidance - 衝突回避\n",
    "    \n",
    "# 問題文\n",
    "    \n",
    "概要：規定の障害物を検知したらjetbotが停止し，障害物を検知していないときは前進するアプリケーションの開発\n",
    "    \n",
    "達成条件：赤い?cm*?cmのレゴブロックでできた壁に向かってjetbotを直進させた際に，壁に激突せず，jetbotが停止すること．\n",
    "    \n",
    "習得技術：[画像撮影]，[画像のラベル付け]，[撮影した画像とラベルにもとづく2クラス分類モデルの作成]，[画像表示]，[ディレクトリの作成],[wedgetsによるプログラムの操作],[モデルによる撮影画像の判定],[モデルによる判定結果にもとづくロボットカーの制御]\n",
    "    \n",
    "利用機材：jetbot及び赤いレゴブロックでできた?cm*cmの壁\n",
    "    \n",
    "開発手順：\n",
    "    \n",
    "### 1.必要なサポートミッション：[画像撮影][画像のラベル付け][画像表示][ディレクトリの作成][wedgetsによるプログラムの操作]\n",
    "    \n",
    "jetbotのカメラを起動し，対象の障害物を検知してほしい距離の位置に置いた場合と置いていない（あるいは遠い距離に置く）場合の両方の画像を40枚程度ずつ撮影する．前者の画像をC_BLOCKEDというディレクトリに，後者の画像をC_FORWARDという名前のディレクトリ内に保存する．\n",
    "\n",
    "### 2.必要なサポートミッション：[撮影した画像とラベルにもとづく2クラス分類モデルの作成]\n",
    "    \n",
    "stop，forwardと分類された画像を学習器にかけ，2クラス分類のモデルを作成する\n",
    "\n",
    "### 3.必要なサポートミッション：[モデルによる撮影画像の判定]\n",
    "    \n",
    "jetbotのカメラを起動し，Step2で作成されたモデルを活用して撮影した画像をリアルタイムにstop/forwardのどちらであるかを分類するアプリケーションを開発する\n",
    "\n",
    "### 4.必要なサポートミッション：[モデルによる判定結果にもとづくロボットカーの制御]\n",
    "    \n",
    "Step3で作成した自動分類アプリケーションを改良し，stopと判定されたときは停止し，forwardのときは前進するjetbotのプログラムを開発する．\n",
    "\n",
    "</div>"
   ]
  },
  {
   "cell_type": "code",
   "execution_count": null,
   "metadata": {},
   "outputs": [],
   "source": []
  }
 ],
 "metadata": {
  "kernelspec": {
   "display_name": "Python 3",
   "language": "python",
   "name": "python3"
  },
  "language_info": {
   "codemirror_mode": {
    "name": "ipython",
    "version": 3
   },
   "file_extension": ".py",
   "mimetype": "text/x-python",
   "name": "python",
   "nbconvert_exporter": "python",
   "pygments_lexer": "ipython3",
   "version": "3.6.7"
  }
 },
 "nbformat": 4,
 "nbformat_minor": 2
}
