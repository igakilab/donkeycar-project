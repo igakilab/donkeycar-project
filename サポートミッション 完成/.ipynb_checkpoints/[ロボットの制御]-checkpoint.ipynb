{
 "cells": [
  {
   "cell_type": "markdown",
   "metadata": {},
   "source": [
    " <div style=\"padding: 10px; margin-bottom: 10px; border: 1px solid #333333;\">\n",
    "    \n",
    "# support mission [ロボットの動作]\n",
    "    \n",
    "- このsupport mission ではロボットの制御を行います\n",
    "\n",
    "## 完了の定義：\n",
    "\n",
    "- `robot.forward`を実行したら前進し、`robot.stop`を実行したら停止すること\n",
    "\n",
    "</div>"
   ]
  },
  {
   "cell_type": "markdown",
   "metadata": {},
   "source": [
    "## <span style=\"color: red; \">NEW</span> タグ：[ロボットの制御]"
   ]
  },
  {
   "cell_type": "markdown",
   "metadata": {},
   "source": [
    "再利用時の注意点\n",
    "> ####で囲まれているところは再利用時に必要ない"
   ]
  },
  {
   "cell_type": "markdown",
   "metadata": {},
   "source": [
    "ロボットインスタンスを作成する"
   ]
  },
  {
   "cell_type": "code",
   "execution_count": 1,
   "metadata": {},
   "outputs": [],
   "source": [
    "from jetbot import Robot\n",
    "\n",
    "C_ROBOT = Robot()"
   ]
  },
  {
   "cell_type": "markdown",
   "metadata": {},
   "source": [
    "jetbotを前進させるプログラム"
   ]
  },
  {
   "cell_type": "code",
   "execution_count": 3,
   "metadata": {},
   "outputs": [],
   "source": [
    "###########################\n",
    "C_ROBOT.forward(speed = 0.3)\n",
    "###########################"
   ]
  },
  {
   "cell_type": "markdown",
   "metadata": {},
   "source": [
    "jetbotを停止させる"
   ]
  },
  {
   "cell_type": "code",
   "execution_count": 4,
   "metadata": {},
   "outputs": [],
   "source": [
    "##############\n",
    "C_ROBOT.stop()\n",
    "##############"
   ]
  },
  {
   "cell_type": "markdown",
   "metadata": {},
   "source": [
    "### 依存関係\n",
    "- C_ROBOT"
   ]
  }
 ],
 "metadata": {
  "kernelspec": {
   "display_name": "Python 3",
   "language": "python",
   "name": "python3"
  },
  "language_info": {
   "codemirror_mode": {
    "name": "ipython",
    "version": 3
   },
   "file_extension": ".py",
   "mimetype": "text/x-python",
   "name": "python",
   "nbconvert_exporter": "python",
   "pygments_lexer": "ipython3",
   "version": "3.6.8"
  }
 },
 "nbformat": 4,
 "nbformat_minor": 2
}
