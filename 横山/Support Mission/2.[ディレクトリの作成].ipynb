{
 "cells": [
  {
   "cell_type": "markdown",
   "metadata": {},
   "source": [
    "<div style=\"padding: 10px; margin-bottom: 10px; border: 1px solid #333333;\">\n",
    "    \n",
    "## Support Mission 2 ［ディレクトリの作成］\n",
    "- このSupport Misiionではディレクトリの作成を行います．\n",
    "- 一通りコードを読んでから実行してください．\n",
    "    \n",
    "#### 完了の定義\n",
    "- Support Missionディレクトリ内にdatasetというディレクトリが作成されている．\n",
    "- datasetディレクトリ内にtestというディレクトリが作成されている．"
   ]
  },
  {
   "cell_type": "markdown",
   "metadata": {},
   "source": [
    "## <span style=\"color: red; \">NEW</span> タグ：[ディレクトリの作成]"
   ]
  },
  {
   "cell_type": "code",
   "execution_count": null,
   "metadata": {},
   "outputs": [],
   "source": [
    "import os\n",
    "\n",
    "# 作成するディレクトリを指定\n",
    "C_TEST_DIR = 'dataset/test'\n",
    "\n",
    "try:\n",
    "    # ディレクトリを作成\n",
    "    os.makedirs(C_TEST_DIR)\n",
    "except FileExistsError:\n",
    "    print('Directories not created becasue they already exist')"
   ]
  }
 ],
 "metadata": {
  "kernelspec": {
   "display_name": "Python 3",
   "language": "python",
   "name": "python3"
  },
  "language_info": {
   "codemirror_mode": {
    "name": "ipython",
    "version": 3
   },
   "file_extension": ".py",
   "mimetype": "text/x-python",
   "name": "python",
   "nbconvert_exporter": "python",
   "pygments_lexer": "ipython3",
   "version": "3.6.8"
  }
 },
 "nbformat": 4,
 "nbformat_minor": 2
}
