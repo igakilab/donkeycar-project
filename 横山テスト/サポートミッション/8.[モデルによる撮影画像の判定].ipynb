{
 "cells": [
  {
   "cell_type": "markdown",
   "metadata": {},
   "source": [
    "<div style=\"padding: 10px; margin-bottom: 10px; border: 1px solid #333333;\">\n",
    "    \n",
    "# support mission [モデルによる撮影画像の判定]\n",
    "    \n",
    "- このsupport mission では、先ほど作成したmodelに基づき、カメラに映っている状況がfreeである確率とblockedである確率を返してくれる事を確認する\n",
    "\n",
    "\n",
    "\n",
    "## 完了の定義：\n",
    "- blockedの確率が表示されていること\n",
    "\n",
    "</div>\n",
    "\n"
   ]
  },
  {
   "cell_type": "markdown",
   "metadata": {},
   "source": [
    "## <span style=\"color: red; \">NEW</span> タグ：[モデルによる撮影画像の判定]"
   ]
  },
  {
   "cell_type": "markdown",
   "metadata": {},
   "source": [
    " \n",
    "訓練されたモデルを読み込もう\n",
    "\n",
    "トレーニングノートの指示に従って、best_model.pthをこのファイルと同じディレクトリに置いていることを前提としています。 \n"
   ]
  },
  {
   "cell_type": "code",
   "execution_count": 1,
   "metadata": {},
   "outputs": [],
   "source": [
    "import torch\n",
    "import torchvision\n",
    "\n",
    "# 学習済みモデルを初期化しています\n",
    "C_MODEL = torchvision.models.alexnet(pretrained=False)\n",
    "C_MODEL.classifier[6] = torch.nn.Linear(C_MODEL.classifier[6].in_features, 2)"
   ]
  },
  {
   "cell_type": "markdown",
   "metadata": {},
   "source": [
    "次に ``best_model.pth`` ファイルを読み込みます"
   ]
  },
  {
   "cell_type": "code",
   "execution_count": 2,
   "metadata": {},
   "outputs": [],
   "source": [
    "C_MODEL.load_state_dict(torch.load('best_model.pth'))"
   ]
  },
  {
   "cell_type": "markdown",
   "metadata": {},
   "source": [
    "現在、モデルはCPUメモリにあり、以下のコードを実行してGPUデバイスに転送します。"
   ]
  },
  {
   "cell_type": "code",
   "execution_count": 3,
   "metadata": {},
   "outputs": [],
   "source": [
    "device = torch.device('cuda')\n",
    "C_MODEL = C_MODEL.to(device)"
   ]
  },
  {
   "cell_type": "markdown",
   "metadata": {},
   "source": [
    "## 前処理を行う関数を定義する\n",
    "モデルを読み込みましたが、少し問題があります。 モデルをトレーニングした形式は、カメラの形式と完全には一致しません。 そのためには、いくつかの前処理を行う必要があり以下の手順をふむ必要があります\n",
    "\n",
    "1. BGRからRGBに変換する\n",
    "2. HWCレイアウトからCHWレイアウトに変換する\n",
    "3. トレーニング中に行ったのと同じパラメーターを使用して正規化します（カメラは[0、255]の範囲の値を提供し、ロードされた画像は[0、1]の範囲でトレーニングします。したがって、255.0\n",
    "4. CPUメモリからGPUメモリにデータを転送します\n",
    "5. バッチディメンションを追加する"
   ]
  },
  {
   "cell_type": "code",
   "execution_count": 4,
   "metadata": {},
   "outputs": [],
   "source": [
    "import cv2\n",
    "import numpy as np\n",
    "\n",
    "mean = 255.0 * np.array([0.485, 0.456, 0.406])\n",
    "stdev = 255.0 * np.array([0.229, 0.224, 0.225])\n",
    "\n",
    "normalize = torchvision.transforms.Normalize(mean, stdev)\n",
    "\n",
    "# カメラからの画像を正規化するメソッドを定義しています\n",
    "def preprocess(camera_value):\n",
    "    global device, normalize\n",
    "    x = camera_value\n",
    "    x = cv2.cvtColor(x, cv2.COLOR_BGR2RGB)\n",
    "    x = x.transpose((2, 0, 1))\n",
    "    x = torch.from_numpy(x).float()\n",
    "    x = normalize(x)\n",
    "    x = x.to(device)\n",
    "    x = x[None, ...]\n",
    "    return x"
   ]
  },
  {
   "cell_type": "markdown",
   "metadata": {},
   "source": [
    "これで、カメラの形式からニューラルネットワークの入力形式に画像を変換できる前処理関数を定義しました。\n",
    "\n",
    "それでは、カメラを起動して表示しましょう。 \n",
    "jetbotがblockedであると判断する確率を表示するスライダーを作成します"
   ]
  },
  {
   "cell_type": "markdown",
   "metadata": {},
   "source": [
    " ### タグ：[画像表示]をコピペしてください"
   ]
  },
  {
   "cell_type": "code",
   "execution_count": 5,
   "metadata": {},
   "outputs": [
    {
     "data": {
      "application/vnd.jupyter.widget-view+json": {
       "model_id": "a0cf52441cb34428b583ee753c7052fb",
       "version_major": 2,
       "version_minor": 0
      },
      "text/plain": [
       "Image(value=b'\\xff\\xd8\\xff\\xe0\\x00\\x10JFIF\\x00\\x01\\x01\\x00\\x00\\x01\\x00\\x01\\x00\\x00\\xff\\xdb\\x00C\\x00\\x02\\x01\\x0…"
      ]
     },
     "metadata": {},
     "output_type": "display_data"
    }
   ],
   "source": [
    "import traitlets\n",
    "import ipywidgets.widgets as widgets\n",
    "from jetbot import Camera, bgr8_to_jpeg\n",
    "\n",
    "# カメラからの映像の表示サイズを設定する\n",
    "C_IMAGE = widgets.Image(format='jpeg', width=224, height=224)\n",
    "\n",
    "#撮影される画像サイズの設定\n",
    "C_CAMERA = Camera.instance(width=224, height=224)\n",
    "C_CAMERA_LINK = traitlets.dlink((C_CAMERA, 'value'), (C_IMAGE, 'value'), transform=bgr8_to_jpeg)\n",
    "\n",
    "#カメラからの映像を表示\n",
    "display(C_IMAGE)"
   ]
  },
  {
   "cell_type": "markdown",
   "metadata": {},
   "source": [
    "次に、カメラの値が変更されるたびに呼び出される関数を作成します。 この関数は次の手順を実行します\n",
    "\n",
    "1. カメラ画像の前処理\n",
    "2. ニューラルネットワークを実行する\n",
    "3. 出力に応じて動作を変更する"
   ]
  },
  {
   "cell_type": "code",
   "execution_count": 6,
   "metadata": {
    "scrolled": true
   },
   "outputs": [
    {
     "name": "stdout",
     "output_type": "stream",
     "text": [
      "0.44619250297546387\n"
     ]
    }
   ],
   "source": [
    "import torch.nn.functional as F\n",
    "import time\n",
    "\n",
    "def update(change):\n",
    "    global C_ROBOT\n",
    "    x = change['new'] \n",
    "    x = preprocess(x)\n",
    "    y = C_MODEL(x)\n",
    "    \n",
    "    \n",
    "    y = F.softmax(y, dim=1)\n",
    "    # 下記のプログラムでblockedの確率を取得している\n",
    "    # datasetディレクトリを見てもらうと上がblocked,下がfreeになっている\n",
    "    # つまり、blockedの確率を取得したい場合[0]番目にその値が入っており、freeの確率を持ってきたい場合[1]番目を指定する必要がある\n",
    "    # blockedよりも上にディレクトリが作成された場合は、そのディレクトリの確率が[0]に入っていることになる\n",
    "    # 確率prob_blockedは 0 < prob_blocked <= 1 である\n",
    "\n",
    "    prob_blocked = float(y.flatten()[0])\n",
    "    \n",
    "    # 使いまわすときは下記のプログラム time.sleep(1.0),print(prob_blocked)は削除してください\n",
    "    time.sleep(1.0)\n",
    "    print(prob_blocked)\n",
    "    ####################################################################\n",
    "    time.sleep(0.001)\n",
    "    \n",
    "update({'new': C_CAMERA.value}) "
   ]
  },
  {
   "cell_type": "code",
   "execution_count": 7,
   "metadata": {},
   "outputs": [],
   "source": [
    "C_CAMERA.observe(update, names='value') "
   ]
  },
  {
   "cell_type": "markdown",
   "metadata": {},
   "source": [
    "確率が表示されていることを確認してください\n",
    "\n",
    "確率はディレクトリの順番に依存します。\n",
    "\n",
    "例：[0.4 , 0.6]と表示された場合、datasetディレクトリの中を見てほしいのだがblockedその下にfreeという順番でディレクトリが作成されている。\n",
    "\n",
    "つまりこの場合、0.4(40%)はblockedの確率を表し、0.6はfreeの確率を表している。"
   ]
  }
 ],
 "metadata": {
  "kernelspec": {
   "display_name": "Python 3",
   "language": "python",
   "name": "python3"
  },
  "language_info": {
   "codemirror_mode": {
    "name": "ipython",
    "version": 3
   },
   "file_extension": ".py",
   "mimetype": "text/x-python",
   "name": "python",
   "nbconvert_exporter": "python",
   "pygments_lexer": "ipython3",
   "version": "3.6.8"
  }
 },
 "nbformat": 4,
 "nbformat_minor": 2
}
