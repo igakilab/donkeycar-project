{
 "cells": [
  {
   "cell_type": "markdown",
   "metadata": {},
   "source": [
    " <div style=\"padding: 10px; margin-bottom: 10px; border: 1px solid #333333;\">\n",
    "    \n",
    " # support mission [widgetsによるプログラムの操作]\n",
    "    \n",
    "- このsupport mission ではWidgetsによるプログラムの操作を行います\n",
    "\n",
    "## 完了の定義：\n",
    "\n",
    "- 作成したボタンが押されたとき、指定したディレクトリに画像が保存されていること"
   ]
  },
  {
   "cell_type": "markdown",
   "metadata": {},
   "source": [
    " ### タグ：[画像表示]をコピペしてください"
   ]
  },
  {
   "cell_type": "code",
   "execution_count": null,
   "metadata": {},
   "outputs": [],
   "source": [
    "import traitlets\n",
    "import ipywidgets.widgets as widgets\n",
    "from jetbot import Camera, bgr8_to_jpeg\n",
    "\n",
    "# カメラからの映像の表示サイズを設定する\n",
    "C_IMAGE = widgets.Image(format='jpeg', width=224, height=224)\n",
    "\n",
    "#撮影される画像サイズの設定\n",
    "camera = Camera.instance(width=224, height=224)\n",
    "camera_link = traitlets.dlink((camera, 'value'), (C_IMAGE, 'value'), transform=bgr8_to_jpeg)\n",
    "\n",
    "#カメラからの映像を表示\n",
    "display(C_IMAGE)"
   ]
  },
  {
   "cell_type": "markdown",
   "metadata": {},
   "source": [
    "## <span style=\"color: red; \">NEW</span> タグ：[widgetsによるプログラムの操作]"
   ]
  },
  {
   "cell_type": "code",
   "execution_count": null,
   "metadata": {},
   "outputs": [],
   "source": [
    "#撮影ボタンの作成\n",
    "button_layout = widgets.Layout(width='128px', height='64px')\n",
    "\n",
    "# ボタンのレイアウトの設定\n",
    "free_button = widgets.Button(description='add free', button_style='success', layout=button_layout)\n",
    "blocked_button = widgets.Button(description='add blocked', button_style='danger', layout=button_layout)\n",
    "\n",
    "# ボタンが押されたとき、save_blockedメソッドが呼ばれるようにする\n",
    "free_button.on_click(lambda x: save_free())\n",
    "blocked_button.on_click(lambda x: save_blocked())\n",
    "\n",
    "# 撮影用ボタンの表示\n",
    "display(widgets.HBox([free_button]))\n",
    "display(widgets.HBox([blocked_button]))"
   ]
  },
  {
   "cell_type": "markdown",
   "metadata": {},
   "source": [
    "### タグ：[ディレクトリの作成]"
   ]
  },
  {
   "cell_type": "code",
   "execution_count": null,
   "metadata": {},
   "outputs": [],
   "source": [
    "import os\n",
    "\n",
    "# 作成するディレクトリを指定している\n",
    "C_BLOCKED_DIR = 'dataset/blocked'\n",
    "C_FREE_DIR = 'dataset/free'\n",
    "\n",
    "\n",
    "try:\n",
    "    #ディレクトリを作成する\n",
    "    os.makedirs(C_FREE_DIR)\n",
    "    os.makedirs(C_BLOCKED_DIR)\n",
    "except FileExistsError:\n",
    "    print('Directories not created becasue they already exist')"
   ]
  },
  {
   "cell_type": "markdown",
   "metadata": {},
   "source": [
    "### タグ：[画像の保存]をコピペしてください"
   ]
  },
  {
   "cell_type": "code",
   "execution_count": null,
   "metadata": {},
   "outputs": [],
   "source": [
    "from uuid import uuid1\n",
    "\n",
    "def save_snapshot(directory):\n",
    "    image_path = os.path.join(directory, str(uuid1()) + '.jpg')\n",
    "    with open(image_path, 'wb') as f:\n",
    "        f.write(C_IMAGE.value)"
   ]
  },
  {
   "cell_type": "markdown",
   "metadata": {},
   "source": [
    "### タグ：[画像のラベル付け]をコピペしてください"
   ]
  },
  {
   "cell_type": "code",
   "execution_count": null,
   "metadata": {},
   "outputs": [],
   "source": [
    "# snanpshotメソッドを呼び出し、撮った画像をC_FREE_DIRに保存するメソッドの追加\n",
    "def save_free():\n",
    "    global C_FREE_DIR\n",
    "    save_snapshot(C_FREE_DIR)\n",
    "    \n",
    "# snanpshotメソッドを呼び出し、撮った画像をC_BLOCKED_DIRに保存するメソッドの追加\n",
    "def save_blocked():\n",
    "    global C_BLOCKED_DIR\n",
    "    save_snapshot(C_BLOCKED_DIR)"
   ]
  },
  {
   "cell_type": "markdown",
   "metadata": {},
   "source": [
    "### 依存関係\n",
    "- [ディレクトリの作成]のC_FREE_DIR,C_BLOCKED_DIRが[画像のラベル付け]で利用されている\n",
    "- [画像表示]のC_IMAGEが[画像のラベル付け]で再利用されている"
   ]
  }
 ],
 "metadata": {
  "kernelspec": {
   "display_name": "Python 3",
   "language": "python",
   "name": "python3"
  },
  "language_info": {
   "codemirror_mode": {
    "name": "ipython",
    "version": 3
   },
   "file_extension": ".py",
   "mimetype": "text/x-python",
   "name": "python",
   "nbconvert_exporter": "python",
   "pygments_lexer": "ipython3",
   "version": "3.6.8"
  }
 },
 "nbformat": 4,
 "nbformat_minor": 2
}
