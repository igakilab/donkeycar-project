{
 "cells": [
  {
   "cell_type": "markdown",
   "metadata": {},
   "source": [
    "## <span style=\"color: red; \">NEW</span> タグ：[画像のラベル付け]"
   ]
  },
  {
   "cell_type": "code",
   "execution_count": null,
   "metadata": {},
   "outputs": [],
   "source": [
    "def save_free():\n",
    "    global C_FREE_DIR\n",
    "    save_snapshot(C_FREE_DIR)\n",
    "    \n",
    "    \n",
    "def save_blocked():\n",
    "    global C_BLOCKED_DIR\n",
    "    save_snapshot(C_BLOCKED_DIR)\n",
    "    \n",
    "free_button.on_click(lambda x: save_free())\n",
    "blocked_button.on_click(lambda x: save_blocked())"
   ]
  },
  {
   "cell_type": "markdown",
   "metadata": {},
   "source": [
    "### 依存関係\n",
    "- C_FREE_DIRは障害物がない時の画像を保存するためのディレクトリのPathが格納されている\n",
    "- C_BLOCKED_DIRは障害物がある時の画像を保存するためのディレクトリのPathが格納されている"
   ]
  }
 ],
 "metadata": {
  "kernelspec": {
   "display_name": "Python 3",
   "language": "python",
   "name": "python3"
  },
  "language_info": {
   "codemirror_mode": {
    "name": "ipython",
    "version": 3
   },
   "file_extension": ".py",
   "mimetype": "text/x-python",
   "name": "python",
   "nbconvert_exporter": "python",
   "pygments_lexer": "ipython3",
   "version": "3.6.8"
  }
 },
 "nbformat": 4,
 "nbformat_minor": 2
}
