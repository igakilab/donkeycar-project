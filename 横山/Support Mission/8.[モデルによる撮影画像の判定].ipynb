{
 "cells": [
  {
   "cell_type": "markdown",
   "metadata": {},
   "source": [
    "<div style=\"padding: 10px; margin-bottom: 10px; border: 1px solid #333333;\">\n",
    "\n",
    "## Support Mission 8 ［モデルによる撮影画像の判定］\n",
    "- このSupport MissionではSupport Mission 6で作成したモデルに基づいて，カメラに写っている状況がfreeである確率と<br>\n",
    "  blockedである確率を返してくれることを確認します．\n",
    "    \n",
    "#### 完了の定義\n",
    "- blockedの確率が正しく表示されている．"
   ]
  },
  {
   "cell_type": "markdown",
   "metadata": {},
   "source": [
    "## 再利用タグ：[画像表示]"
   ]
  },
  {
   "cell_type": "markdown",
   "metadata": {},
   "source": [
    "## <span style=\"color: red; \">NEW</span> タグ：[モデルによる撮影画像の判定]"
   ]
  },
  {
   "cell_type": "markdown",
   "metadata": {},
   "source": [
    "#### <span style=\"color: red; \">重要！</span>\n",
    "- 訓練されたモデルを読み込みます．\n",
    "- ここでもデータセットのクラスラベルに応じてレイヤーの出力層を変更します．\n",
    "- best_model.pthがこのファイルと同じディレクトリ内に置いてあることを前提としています．"
   ]
  },
  {
   "cell_type": "code",
   "execution_count": null,
   "metadata": {},
   "outputs": [],
   "source": [
    "import torch\n",
    "import torchvision\n",
    "\n",
    "# 学習済みモデルを初期化しています\n",
    "C_MODEL = torchvision.models.alexnet(pretrained=False)\n",
    "C_MODEL.classifier[6] = torch.nn.Linear(C_MODEL.classifier[6].in_features, 2)"
   ]
  },
  {
   "cell_type": "markdown",
   "metadata": {},
   "source": [
    "- best_model.pthファイルを読み込みます．"
   ]
  },
  {
   "cell_type": "code",
   "execution_count": null,
   "metadata": {},
   "outputs": [],
   "source": [
    "C_MODEL.load_state_dict(torch.load('best_model.pth'))"
   ]
  },
  {
   "cell_type": "markdown",
   "metadata": {},
   "source": [
    "- CPUメモリにあるモデルをGPUデバイスに転送します．"
   ]
  },
  {
   "cell_type": "code",
   "execution_count": null,
   "metadata": {},
   "outputs": [],
   "source": [
    "device = torch.device('cuda')\n",
    "C_MODEL = C_MODEL.to(device)"
   ]
  },
  {
   "cell_type": "markdown",
   "metadata": {},
   "source": [
    "#### 前処理を行う巻数を定義する\n",
    "- モデルを読み込みましたが，少し問題があります．\n",
    "- モデルをトレーニングにした形式は，カメラの形式と完全には一致しません．\n",
    "- 一致させるためには，いくつかの前処理を行う必要があり以下の手順をふむ必要があります．<br><br>\n",
    "1.BGRからRGBに変換する<br>\n",
    "2.HWCレイアウトからCHWレイアウトに変換する<br>\n",
    "3.トレーニング中に行ったものと同じパラメーターを使用して正規化する<br>\n",
    "  （カメラは[0,255]の範囲の値を提供し，ロードされた画像は[0,1]の範囲でトレーニングする．<br>\n",
    "  　したがって、255.0となる．）<br>\n",
    "4.CPUメモリからGPUメモリにデータを転送する<br>\n",
    "5.バッチディメンションを追加する"
   ]
  },
  {
   "cell_type": "code",
   "execution_count": null,
   "metadata": {},
   "outputs": [],
   "source": [
    "import cv2\n",
    "import numpy as np\n",
    "\n",
    "mean = 255.0 * np.array([0.485, 0.456, 0.406])\n",
    "stdev = 255.0 * np.array([0.229, 0.224, 0.225])\n",
    "\n",
    "normalize = torchvision.transforms.Normalize(mean, stdev)\n",
    "\n",
    "# カメラからの画像を正規化するメソッドを定義しています\n",
    "def preprocess(camera_value):\n",
    "    global device, normalize\n",
    "    x = camera_value\n",
    "    x = cv2.cvtColor(x, cv2.COLOR_BGR2RGB)\n",
    "    x = x.transpose((2, 0, 1))\n",
    "    x = torch.from_numpy(x).float()\n",
    "    x = normalize(x)\n",
    "    x = x.to(device)\n",
    "    x = x[None, ...]\n",
    "    return x"
   ]
  },
  {
   "cell_type": "markdown",
   "metadata": {},
   "source": [
    "- これで，カメラの形式からニューラルネットワークの入力形式に画像を変換できる前処理関数が定義できました．"
   ]
  },
  {
   "cell_type": "markdown",
   "metadata": {},
   "source": [
    "- カメラの値が変更されるたびに呼び出される関数を作成します．\n",
    "- この関数は次の手順で実行します．<br><br>\n",
    "1.カメラ画像の前処理をする<br>\n",
    "2.ニューラルネットワークを実行する<br>\n",
    "3.出力に応じて動作を変更する"
   ]
  },
  {
   "cell_type": "markdown",
   "metadata": {},
   "source": [
    "再利用時の注意事項\n",
    "> ####で囲まれているセルは再利用時には必要ありません．<br>\n",
    "コードを再利用するときは使用しないようにしてください．"
   ]
  },
  {
   "cell_type": "code",
   "execution_count": null,
   "metadata": {},
   "outputs": [],
   "source": [
    "#################################################################################################################\n",
    "import torch.nn.functional as F\n",
    "import time\n",
    "\n",
    "def update(change):\n",
    "    global C_ROBOT\n",
    "    x = change['new'] \n",
    "    x = preprocess(x)\n",
    "    y = C_MODEL(x)\n",
    "        \n",
    "    y = F.softmax(y, dim=1)\n",
    "\n",
    "    # 重要！\n",
    "    # 下記のプログラムでblockedの確率を取得している\n",
    "    # datasetディレクトリ内では上がblockedディレクトリ,下がfreeディレクトリになっている\n",
    "    # つまり，blockedの確率を取得したい場合[0]番目にその値が入っており，freeの確率を取得したい場合[1]番目その値が入っている\n",
    "    # blockedよりも上にディレクトリが作成された場合は，そのディレクトリの確率が[0]に入っていることになる\n",
    "    # 確率prob_blockedは 0 < prob_blocked <= 1 である\n",
    "    prob_blocked = float(y.flatten()[0])\n",
    "    \n",
    "    time.sleep(1.0)\n",
    "    print(prob_blocked)\n",
    "\n",
    "    time.sleep(0.001)\n",
    "    \n",
    "update({'new': C_CAMERA.value}) \n",
    "#################################################################################################################"
   ]
  },
  {
   "cell_type": "code",
   "execution_count": null,
   "metadata": {},
   "outputs": [],
   "source": [
    "C_CAMERA.observe(update, names='value') "
   ]
  },
  {
   "cell_type": "markdown",
   "metadata": {},
   "source": [
    "- 確率が表示されていることを確認してください．\n",
    "- 確率はディレクトリの順番に依存します．"
   ]
  }
 ],
 "metadata": {
  "kernelspec": {
   "display_name": "Python 3",
   "language": "python",
   "name": "python3"
  },
  "language_info": {
   "codemirror_mode": {
    "name": "ipython",
    "version": 3
   },
   "file_extension": ".py",
   "mimetype": "text/x-python",
   "name": "python",
   "nbconvert_exporter": "python",
   "pygments_lexer": "ipython3",
   "version": "3.6.8"
  }
 },
 "nbformat": 4,
 "nbformat_minor": 2
}
