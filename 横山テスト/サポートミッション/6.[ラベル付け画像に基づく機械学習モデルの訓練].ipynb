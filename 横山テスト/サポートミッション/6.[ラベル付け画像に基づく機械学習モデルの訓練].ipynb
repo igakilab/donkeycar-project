{
 "cells": [
  {
   "cell_type": "markdown",
   "metadata": {},
   "source": [
    " <div style=\"padding: 10px; margin-bottom: 10px; border: 1px solid #333333;\">\n",
    "    \n",
    "# support mission [ラベル付け画像に基づく機械学習モデルの訓練]\n",
    "    \n",
    "- このsupport mission では、data_collectionで集めた画像をもとに入力されたデータが\n",
    "\n",
    "## 完了の定義：\n",
    "\n",
    "- このファイルと同じディレクトリ内にdataset、その下にfree、blockedディレクトリが作成されていること\n",
    "\n",
    "</div>\n"
   ]
  },
  {
   "cell_type": "markdown",
   "metadata": {},
   "source": [
    "## <span style=\"color: red; \">NEW</span> タグ：[ラベル付けに基づく機械学習モデルの訓練]"
   ]
  },
  {
   "cell_type": "markdown",
   "metadata": {},
   "source": [
    "このノートブックでは、2つのクラスを検出するように画像分類器をトレーニングします"
   ]
  },
  {
   "cell_type": "code",
   "execution_count": 1,
   "metadata": {},
   "outputs": [],
   "source": [
    "import torch\n",
    "import torch.optim as optim\n",
    "import torch.nn.functional as F\n",
    "import torchvision\n",
    "import torchvision.datasets as datasets\n",
    "import torchvision.models as models\n",
    "import torchvision.transforms as transforms"
   ]
  },
  {
   "cell_type": "markdown",
   "metadata": {},
   "source": [
    "### データセットインスタンスの作成"
   ]
  },
  {
   "cell_type": "markdown",
   "metadata": {},
   "source": [
    "ここで、集めた画像データを正規化します"
   ]
  },
  {
   "cell_type": "code",
   "execution_count": 2,
   "metadata": {},
   "outputs": [],
   "source": [
    "dataset = datasets.ImageFolder(\n",
    "    'dataset',\n",
    "    transforms.Compose([\n",
    "        transforms.ColorJitter(0.1, 0.1, 0.1, 0.1),\n",
    "        transforms.Resize((224, 224)),\n",
    "        transforms.ToTensor(),\n",
    "        transforms.Normalize([0.485, 0.456, 0.406], [0.229, 0.224, 0.225])\n",
    "    ])\n",
    ")"
   ]
  },
  {
   "cell_type": "markdown",
   "metadata": {},
   "source": [
    "### データの分割"
   ]
  },
  {
   "cell_type": "markdown",
   "metadata": {},
   "source": [
    "次に、データセットをトレーニング用セットおよび、精度の確認用のテスト用セットに分割します。"
   ]
  },
  {
   "cell_type": "code",
   "execution_count": 3,
   "metadata": {},
   "outputs": [],
   "source": [
    "train_dataset, test_dataset = torch.utils.data.random_split(dataset, [len(dataset) - 50, 50])"
   ]
  },
  {
   "cell_type": "markdown",
   "metadata": {},
   "source": [
    "### DataLoaderインスタンスの作成"
   ]
  },
  {
   "cell_type": "markdown",
   "metadata": {},
   "source": [
    "2つのDataLoaderインスタンスを作成します。これらのインスタンスは、データのシャッフル、ミニバッチの生成などを行います"
   ]
  },
  {
   "cell_type": "code",
   "execution_count": 4,
   "metadata": {},
   "outputs": [],
   "source": [
    "train_loader = torch.utils.data.DataLoader(\n",
    "    train_dataset,\n",
    "    batch_size=16,\n",
    "    shuffle=True,\n",
    "    num_workers=4\n",
    ")\n",
    "\n",
    "test_loader = torch.utils.data.DataLoader(\n",
    "    test_dataset,\n",
    "    batch_size=16,\n",
    "    shuffle=True,\n",
    "    num_workers=4\n",
    ")"
   ]
  },
  {
   "cell_type": "markdown",
   "metadata": {},
   "source": [
    "### ニューラルネットワークを定義する\n",
    "\n",
    "次に、トレーニングするニューラルネットワークを定義します。\n",
    "\n",
    "torchvisionパッケージは、使用可能な事前トレーニング済みモデルを提供してくれます。\n",
    "\n",
    "転送学習と呼ばれるプロセスでは、利用可能なデータがはるかに少ない可能性がある新しいタスクのために、事前にトレーニングされたモデル（数百万の画像でトレーニングされた）を再利用できます。\n",
    "\n",
    "事前トレーニング済みモデルの元のトレーニングで学習した重要な機能は、新しいタスクに再利用できます。\n",
    "\n",
    "今回はalexnetモデルを使用します。"
   ]
  },
  {
   "cell_type": "code",
   "execution_count": 5,
   "metadata": {},
   "outputs": [],
   "source": [
    "model = models.alexnet(pretrained=True)"
   ]
  },
  {
   "cell_type": "markdown",
   "metadata": {},
   "source": [
    "alexnetモデルは元々、クラスラベルが1000個あるデータセット用にトレーニングされていましたが、今回のデータセットにはクラスラベルが2つしかありません！ 最終レイヤーを出力が2つしかない新しいレイヤーに置き換えます。"
   ]
  },
  {
   "cell_type": "code",
   "execution_count": 6,
   "metadata": {},
   "outputs": [],
   "source": [
    "model.classifier[6] = torch.nn.Linear(model.classifier[6].in_features, 2)"
   ]
  },
  {
   "cell_type": "markdown",
   "metadata": {},
   "source": [
    "\n",
    "最後に、GPUで実行するためにモデルを転送します"
   ]
  },
  {
   "cell_type": "code",
   "execution_count": 7,
   "metadata": {},
   "outputs": [],
   "source": [
    "device = torch.device('cuda')\n",
    "model = model.to(device)"
   ]
  },
  {
   "cell_type": "markdown",
   "metadata": {},
   "source": [
    "### トレーニング\n",
    "\n",
    "以下のコードを使用して、30エポックのニューラルネットワークをトレーニングし、各エポックの後に最高のパフォーマンスモデルを保存します。\n",
    "\n",
    "エポックとは、データを完全に把握することです。\n",
    "\n",
    "※このセルは他のセルよりも実行に時間がかかります"
   ]
  },
  {
   "cell_type": "code",
   "execution_count": 8,
   "metadata": {
    "scrolled": true
   },
   "outputs": [
    {
     "name": "stdout",
     "output_type": "stream",
     "text": [
      "0: 0.860000\n",
      "1: 0.980000\n",
      "2: 1.000000\n",
      "3: 1.000000\n",
      "4: 0.960000\n",
      "5: 0.980000\n",
      "6: 1.000000\n",
      "7: 1.000000\n",
      "8: 1.000000\n",
      "9: 1.000000\n",
      "10: 1.000000\n",
      "11: 1.000000\n",
      "12: 1.000000\n",
      "13: 1.000000\n",
      "14: 1.000000\n",
      "15: 0.980000\n",
      "16: 1.000000\n",
      "17: 1.000000\n",
      "18: 1.000000\n",
      "19: 1.000000\n",
      "20: 1.000000\n",
      "21: 1.000000\n",
      "22: 1.000000\n",
      "23: 1.000000\n",
      "24: 1.000000\n",
      "25: 1.000000\n",
      "26: 1.000000\n",
      "27: 1.000000\n",
      "28: 1.000000\n",
      "29: 1.000000\n"
     ]
    }
   ],
   "source": [
    "NUM_EPOCHS = 30\n",
    "BEST_MODEL_PATH = 'best_model.pth'\n",
    "best_accuracy = 0.0\n",
    "\n",
    "optimizer = optim.SGD(model.parameters(), lr=0.001, momentum=0.9)\n",
    "\n",
    "for epoch in range(NUM_EPOCHS):\n",
    "    \n",
    "    for images, labels in iter(train_loader):\n",
    "        images = images.to(device)\n",
    "        labels = labels.to(device)\n",
    "        optimizer.zero_grad()\n",
    "        outputs = model(images)\n",
    "        loss = F.cross_entropy(outputs, labels)\n",
    "        loss.backward()\n",
    "        optimizer.step()\n",
    "    \n",
    "    test_error_count = 0.0\n",
    "    for images, labels in iter(test_loader):\n",
    "        images = images.to(device)\n",
    "        labels = labels.to(device)\n",
    "        outputs = model(images)\n",
    "        test_error_count += float(torch.sum(torch.abs(labels - outputs.argmax(1))))\n",
    "    \n",
    "    test_accuracy = 1.0 - float(test_error_count) / float(len(test_dataset))\n",
    "    print('%d: %f' % (epoch, test_accuracy))\n",
    "    if test_accuracy > best_accuracy:\n",
    "        torch.save(model.state_dict(), BEST_MODEL_PATH)\n",
    "        best_accuracy = test_accuracy"
   ]
  },
  {
   "cell_type": "markdown",
   "metadata": {},
   "source": [
    "これが完了すると、Jupyter Labファイルブラウザーにファイルbest_model.pthが表示されます。"
   ]
  }
 ],
 "metadata": {
  "kernelspec": {
   "display_name": "Python 3",
   "language": "python",
   "name": "python3"
  },
  "language_info": {
   "codemirror_mode": {
    "name": "ipython",
    "version": 3
   },
   "file_extension": ".py",
   "mimetype": "text/x-python",
   "name": "python",
   "nbconvert_exporter": "python",
   "pygments_lexer": "ipython3",
   "version": "3.6.8"
  }
 },
 "nbformat": 4,
 "nbformat_minor": 2
}
