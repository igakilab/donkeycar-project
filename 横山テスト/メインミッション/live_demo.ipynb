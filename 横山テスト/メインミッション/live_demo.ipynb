{
 "cells": [
  {
   "cell_type": "markdown",
   "metadata": {},
   "source": [
    "<div style=\"padding: 10px; margin-bottom: 10px; border: 1px solid #333333;\">\n",
    "    \n",
    "# collision_avoidance - live-demo\n",
    "\n",
    "## 使用するカテゴリ：[モデルによる撮影画像の判定],[モデルによる判定結果にもとづくロボットカーの制御],[ロボットの制御]\n",
    "\n",
    "## 完了の定義：jetbotがカメラの前に赤いレゴブロックでできた?cm*cmの壁がある場合は停止し、ない場合は直進すること\n",
    "\n",
    "</div>\n"
   ]
  }
 ],
 "metadata": {
  "kernelspec": {
   "display_name": "Python 3",
   "language": "python",
   "name": "python3"
  },
  "language_info": {
   "codemirror_mode": {
    "name": "ipython",
    "version": 3
   },
   "file_extension": ".py",
   "mimetype": "text/x-python",
   "name": "python",
   "nbconvert_exporter": "python",
   "pygments_lexer": "ipython3",
   "version": "3.6.8"
  }
 },
 "nbformat": 4,
 "nbformat_minor": 2
}
