{
 "cells": [
  {
   "cell_type": "markdown",
   "metadata": {},
   "source": [
    "<div style=\"padding: 10px; margin-bottom: 10px; border: 1px solid #333333;\">\n",
    "    \n",
    "## Support Mission 9 ［モデルによる判定結果に基づくロボットカーの制御］\n",
    "- このSupport Missionでは，Support Mission 6で作成したモデルに基づいて，カメラに写っている状況がfreeである確率と<br>\n",
    "  blockedである確率を取得し，その確率を使ってロボットの制御を行います．\n",
    "    \n",
    "#### 完了の定義\n",
    "- JetBotが赤いレゴブロックを検知したときに停止する．\n",
    "- JetBotが赤いレゴブロックを検知していないときに前進する．"
   ]
  },
  {
   "cell_type": "markdown",
   "metadata": {},
   "source": [
    "## 再利用タグ：[ロボットの制御]，[モデルによる撮影画像の判定]，[画像表示]"
   ]
  },
  {
   "cell_type": "code",
   "execution_count": 1,
   "metadata": {},
   "outputs": [],
   "source": [
    "from jetbot import Robot\n",
    "import time\n",
    "\n",
    "C_ROBOT = Robot()"
   ]
  },
  {
   "cell_type": "code",
   "execution_count": 2,
   "metadata": {},
   "outputs": [],
   "source": [
    "import torch\n",
    "import torchvision\n",
    "\n",
    "# 学習済みモデルを初期化しています\n",
    "C_MODEL = torchvision.models.alexnet(pretrained=False)\n",
    "C_MODEL.classifier[6] = torch.nn.Linear(C_MODEL.classifier[6].in_features, 2)"
   ]
  },
  {
   "cell_type": "code",
   "execution_count": 3,
   "metadata": {},
   "outputs": [],
   "source": [
    "C_MODEL.load_state_dict(torch.load('best_model.pth'))"
   ]
  },
  {
   "cell_type": "code",
   "execution_count": 4,
   "metadata": {},
   "outputs": [],
   "source": [
    "device = torch.device('cuda')\n",
    "C_MODEL = C_MODEL.to(device)"
   ]
  },
  {
   "cell_type": "code",
   "execution_count": 5,
   "metadata": {},
   "outputs": [],
   "source": [
    "import cv2\n",
    "import numpy as np\n",
    "\n",
    "mean = 255.0 * np.array([0.485, 0.456, 0.406])\n",
    "stdev = 255.0 * np.array([0.229, 0.224, 0.225])\n",
    "\n",
    "normalize = torchvision.transforms.Normalize(mean, stdev)\n",
    "\n",
    "# カメラからの画像を正規化するメソッドを定義しています\n",
    "def preprocess(camera_value):\n",
    "    global device, normalize\n",
    "    x = camera_value\n",
    "    x = cv2.cvtColor(x, cv2.COLOR_BGR2RGB)\n",
    "    x = x.transpose((2, 0, 1))\n",
    "    x = torch.from_numpy(x).float()\n",
    "    x = normalize(x)\n",
    "    x = x.to(device)\n",
    "    x = x[None, ...]\n",
    "    return x"
   ]
  },
  {
   "cell_type": "code",
   "execution_count": 6,
   "metadata": {},
   "outputs": [
    {
     "data": {
      "application/vnd.jupyter.widget-view+json": {
       "model_id": "98c22cb17b2f493bafd3795c3b4433f6",
       "version_major": 2,
       "version_minor": 0
      },
      "text/plain": [
       "Image(value=b'\\xff\\xd8\\xff\\xe0\\x00\\x10JFIF\\x00\\x01\\x01\\x00\\x00\\x01\\x00\\x01\\x00\\x00\\xff\\xdb\\x00C\\x00\\x02\\x01\\x0…"
      ]
     },
     "metadata": {},
     "output_type": "display_data"
    }
   ],
   "source": [
    "import traitlets\n",
    "import ipywidgets.widgets as widgets\n",
    "from jetbot import Camera, bgr8_to_jpeg\n",
    "\n",
    "# カメラからの映像の表示サイズを設定\n",
    "C_IMAGE = widgets.Image(format='jpeg', width=224, height=224)\n",
    "\n",
    "# 撮影される画像サイズの設定\n",
    "C_CAMERA = Camera.instance(width=224, height=224)\n",
    "C_CAMERA_LINK = traitlets.dlink((C_CAMERA, 'value'), (C_IMAGE, 'value'), transform=bgr8_to_jpeg)\n",
    "\n",
    "# カメラからの映像を表示\n",
    "display(C_IMAGE)"
   ]
  },
  {
   "cell_type": "markdown",
   "metadata": {},
   "source": [
    "## <span style=\"color: red; \">NEW</span> タグ：[モデルによる判定結果に基づくロボットカーの制御]"
   ]
  },
  {
   "cell_type": "code",
   "execution_count": 7,
   "metadata": {},
   "outputs": [],
   "source": [
    "import torch.nn.functional as F\n",
    "import time\n",
    "\n",
    "def update(change):\n",
    "    global C_ROBOT\n",
    "    x = change['new'] \n",
    "    x = preprocess(x)\n",
    "    y = C_MODEL(x)\n",
    "        \n",
    "    y = F.softmax(y, dim=1)\n",
    "\n",
    "    # 重要！\n",
    "    # 下記のプログラムでblockedの確率を取得している\n",
    "    # datasetディレクトリ内では上がblockedディレクトリ,下がfreeディレクトリになっている\n",
    "    # つまり，blockedの確率を取得したい場合[0]番目にその値が入っており，freeの確率を取得したい場合[1]番目その値が入っている\n",
    "    # blockedよりも上にディレクトリが作成された場合は，そのディレクトリの確率が[0]に入っていることになる\n",
    "    # 確率prob_blockedは 0 < prob_blocked <= 1 である\n",
    "    prob_blocked = float(y.flatten()[0])\n",
    "    \n",
    "    if prob_blocked > 0.5:\n",
    "        C_ROBOT.stop()\n",
    "    else:\n",
    "        C_ROBOT.forward(speed = 0.3)\n",
    "\n",
    "    time.sleep(0.001)\n",
    "    \n",
    "update({'new': C_CAMERA.value}) "
   ]
  },
  {
   "cell_type": "code",
   "execution_count": 8,
   "metadata": {},
   "outputs": [],
   "source": [
    "C_CAMERA.observe(update, names='value') "
   ]
  },
  {
   "cell_type": "markdown",
   "metadata": {},
   "source": [
    "- ロボットを停止させます．"
   ]
  },
  {
   "cell_type": "code",
   "execution_count": 9,
   "metadata": {},
   "outputs": [],
   "source": [
    "C_CAMERA.unobserve(update, names='value')\n",
    "C_ROBOT.stop()"
   ]
  },
  {
   "cell_type": "markdown",
   "metadata": {},
   "source": [
    "- カメラを切断します．"
   ]
  },
  {
   "cell_type": "code",
   "execution_count": 10,
   "metadata": {},
   "outputs": [],
   "source": [
    "C_CAMERA_LINK.unlink()  # don't stream to browser (will still run camera)"
   ]
  },
  {
   "cell_type": "code",
   "execution_count": 11,
   "metadata": {},
   "outputs": [],
   "source": [
    "C_CAMERA_LINK.link()  # stream to browser (wont run camera)"
   ]
  },
  {
   "cell_type": "code",
   "execution_count": null,
   "metadata": {},
   "outputs": [],
   "source": []
  }
 ],
 "metadata": {
  "kernelspec": {
   "display_name": "Python 3",
   "language": "python",
   "name": "python3"
  },
  "language_info": {
   "codemirror_mode": {
    "name": "ipython",
    "version": 3
   },
   "file_extension": ".py",
   "mimetype": "text/x-python",
   "name": "python",
   "nbconvert_exporter": "python",
   "pygments_lexer": "ipython3",
   "version": "3.6.8"
  }
 },
 "nbformat": 4,
 "nbformat_minor": 2
}
