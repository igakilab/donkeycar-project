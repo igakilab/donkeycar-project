{
 "cells": [
  {
   "cell_type": "markdown",
   "metadata": {},
   "source": [
    "<div style=\"padding: 10px; margin-bottom: 10px; border: 1px solid #333333;\">\n",
    "\n",
    "## Support Mission 6 ［ラベル付け画像に基づく機械学習モデルの訓練］\n",
    "- このSupport Missionでは集めた画像をもとにJetBotを動かすためのモデルを作成します．\n",
    "    \n",
    "#### 完了の定義\n",
    "- Support Missionディレクトリ内にbest_model.pthファイルがある．"
   ]
  },
  {
   "cell_type": "markdown",
   "metadata": {},
   "source": [
    "## <span style=\"color: red; \">NEW</span> タグ：[ラベル付けに基づく機械学習モデルの訓練]"
   ]
  },
  {
   "cell_type": "code",
   "execution_count": 1,
   "metadata": {},
   "outputs": [],
   "source": [
    "import torch\n",
    "import torch.optim as optim\n",
    "import torch.nn.functional as F\n",
    "import torchvision\n",
    "import torchvision.datasets as datasets\n",
    "import torchvision.models as models\n",
    "import torchvision.transforms as transforms"
   ]
  },
  {
   "cell_type": "markdown",
   "metadata": {},
   "source": [
    "#### データセットインスタンスの作成\n",
    "- 集めた画像データを正規化します．"
   ]
  },
  {
   "cell_type": "code",
   "execution_count": 2,
   "metadata": {},
   "outputs": [],
   "source": [
    "dataset = datasets.ImageFolder(\n",
    "    'dataset',\n",
    "    transforms.Compose([\n",
    "        transforms.ColorJitter(0.1, 0.1, 0.1, 0.1),\n",
    "        transforms.Resize((224, 224)),\n",
    "        transforms.ToTensor(),\n",
    "        transforms.Normalize([0.485, 0.456, 0.406], [0.229, 0.224, 0.225])\n",
    "    ])\n",
    ")"
   ]
  },
  {
   "cell_type": "markdown",
   "metadata": {},
   "source": [
    "#### データの分割\n",
    "- データセットをトレーニング用セットと精度のテスト用セットに分割します．"
   ]
  },
  {
   "cell_type": "code",
   "execution_count": 3,
   "metadata": {},
   "outputs": [],
   "source": [
    "train_dataset, test_dataset = torch.utils.data.random_split(dataset, [len(dataset) - 50, 50])"
   ]
  },
  {
   "cell_type": "markdown",
   "metadata": {},
   "source": [
    "#### DataLoaderインスタンスの生成\n",
    "- ２つのDataLoaderインスタンスを生成します．\n",
    "- これらのインスタンスはデータのシャッフルやミニバッチの生成などを行います．"
   ]
  },
  {
   "cell_type": "code",
   "execution_count": 4,
   "metadata": {},
   "outputs": [],
   "source": [
    "train_loader = torch.utils.data.DataLoader(\n",
    "    train_dataset,\n",
    "    batch_size=16,\n",
    "    shuffle=True,\n",
    "    num_workers=4\n",
    ")\n",
    "\n",
    "test_loader = torch.utils.data.DataLoader(\n",
    "    test_dataset,\n",
    "    batch_size=16,\n",
    "    shuffle=True,\n",
    "    num_workers=4\n",
    ")"
   ]
  },
  {
   "cell_type": "markdown",
   "metadata": {},
   "source": [
    "#### ニューラルネットワークを定義する\n",
    "- トレーニングするニューラルネットワークを定義します．\n",
    "- torchvisionパッケージはすぐに使用可能な事前トレーニング済みモデルを提供してくれます．\n",
    "- 転送学習と呼ばれるプロセスでは，利用可能なデータがはるかに少ない可能性がある新しいタスクのために<br>\n",
    "  事前にトレーニングされた（数百万の画像でトレーニングされた）モデルを再利用できます．\n",
    "- 事前トレーニング済みモデルの元のトレーニングで学習した重要な機能は，新しいタスクに再利用できます．\n",
    "- 今回はalexnetモデルを使用します．"
   ]
  },
  {
   "cell_type": "code",
   "execution_count": 5,
   "metadata": {},
   "outputs": [],
   "source": [
    "model = models.alexnet(pretrained=True)"
   ]
  },
  {
   "cell_type": "markdown",
   "metadata": {},
   "source": [
    "#### <span style=\"color: red; \">重要！</span>\n",
    "- 元々，alexnetモデルはクラスラベルが1000個あるデータセット用にトレーニングされているが，<br>\n",
    "  今回のSupport Missionのデータセットにはクラスラベルがfreeとblockedの２つしかありません．\n",
    "- なので，最終レイヤーを出力層が２つしかない新しいレイヤーに置き換えます．"
   ]
  },
  {
   "cell_type": "code",
   "execution_count": 6,
   "metadata": {},
   "outputs": [],
   "source": [
    "model.classifier[6] = torch.nn.Linear(model.classifier[6].in_features, 2)"
   ]
  },
  {
   "cell_type": "markdown",
   "metadata": {},
   "source": [
    "- GPUで実行するためのにモデルを転送します．"
   ]
  },
  {
   "cell_type": "code",
   "execution_count": 7,
   "metadata": {},
   "outputs": [],
   "source": [
    "device = torch.device('cuda')\n",
    "model = model.to(device)"
   ]
  },
  {
   "cell_type": "markdown",
   "metadata": {},
   "source": [
    "#### トレーニング\n",
    "- 以下のコードを使用して30エポックのニューラルネットワークをトレーニングし，<br>\n",
    "  各エポックの後に最高のパフォーマンスモデルを保存します．\n",
    "- エポックとは，データを完全に把握することです．\n",
    "- このセルは他のセルよりも実行に時間がかかるのですぐに再起動しないようにしてください．"
   ]
  },
  {
   "cell_type": "code",
   "execution_count": 8,
   "metadata": {},
   "outputs": [
    {
     "name": "stdout",
     "output_type": "stream",
     "text": [
      "0: 0.680000\n",
      "1: 1.000000\n",
      "2: 1.000000\n",
      "3: 1.000000\n",
      "4: 0.980000\n",
      "5: 0.980000\n",
      "6: 0.980000\n",
      "7: 1.000000\n",
      "8: 0.980000\n",
      "9: 0.980000\n",
      "10: 1.000000\n",
      "11: 1.000000\n",
      "12: 1.000000\n",
      "13: 1.000000\n",
      "14: 1.000000\n",
      "15: 1.000000\n",
      "16: 1.000000\n",
      "17: 1.000000\n",
      "18: 1.000000\n",
      "19: 1.000000\n",
      "20: 1.000000\n",
      "21: 1.000000\n",
      "22: 1.000000\n",
      "23: 1.000000\n",
      "24: 1.000000\n",
      "25: 1.000000\n",
      "26: 1.000000\n",
      "27: 1.000000\n",
      "28: 1.000000\n",
      "29: 1.000000\n"
     ]
    }
   ],
   "source": [
    "NUM_EPOCHS = 30\n",
    "BEST_MODEL_PATH = 'best_model.pth'\n",
    "best_accuracy = 0.0\n",
    "\n",
    "optimizer = optim.SGD(model.parameters(), lr=0.001, momentum=0.9)\n",
    "\n",
    "for epoch in range(NUM_EPOCHS):\n",
    "    \n",
    "    for images, labels in iter(train_loader):\n",
    "        images = images.to(device)\n",
    "        labels = labels.to(device)\n",
    "        optimizer.zero_grad()\n",
    "        outputs = model(images)\n",
    "        loss = F.cross_entropy(outputs, labels)\n",
    "        loss.backward()\n",
    "        optimizer.step()\n",
    "    \n",
    "    test_error_count = 0.0\n",
    "    for images, labels in iter(test_loader):\n",
    "        images = images.to(device)\n",
    "        labels = labels.to(device)\n",
    "        outputs = model(images)\n",
    "        test_error_count += float(torch.sum(torch.abs(labels - outputs.argmax(1))))\n",
    "    \n",
    "    test_accuracy = 1.0 - float(test_error_count) / float(len(test_dataset))\n",
    "    print('%d: %f' % (epoch, test_accuracy))\n",
    "    if test_accuracy > best_accuracy:\n",
    "        torch.save(model.state_dict(), BEST_MODEL_PATH)\n",
    "        best_accuracy = test_accuracy"
   ]
  },
  {
   "cell_type": "code",
   "execution_count": null,
   "metadata": {},
   "outputs": [],
   "source": []
  }
 ],
 "metadata": {
  "kernelspec": {
   "display_name": "Python 3",
   "language": "python",
   "name": "python3"
  },
  "language_info": {
   "codemirror_mode": {
    "name": "ipython",
    "version": 3
   },
   "file_extension": ".py",
   "mimetype": "text/x-python",
   "name": "python",
   "nbconvert_exporter": "python",
   "pygments_lexer": "ipython3",
   "version": "3.6.8"
  }
 },
 "nbformat": 4,
 "nbformat_minor": 2
}
