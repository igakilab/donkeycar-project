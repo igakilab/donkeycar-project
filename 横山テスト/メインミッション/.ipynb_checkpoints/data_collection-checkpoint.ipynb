{
 "cells": [
  {
   "cell_type": "markdown",
   "metadata": {},
   "source": [
    "<div style=\"padding: 10px; margin-bottom: 10px; border: 1px solid #333333;\">\n",
    "    \n",
    "# collision_avoidance - data_collection  \n",
    "\n",
    "## 使用するカテゴリ：[画像撮影],[画像のラベル付け],[画像表示],[ディレクトリの作成],[wedgetsによるプログラムの操作]\n",
    "\n",
    "## 完了の定義：\n",
    "    \n",
    "## ①このファイルが置かれているディレクトリにdatasetというディレクトリがあり、その直下にC_BLOCKED,C_FORWARDというディレクトリが存在すること。\n",
    "    \n",
    "## ②jetbotのカメラを起動し，対象の障害物を検知してほしい距離の位置に置いた場合と置いていない（あるいは遠い距離に置く）場合の両方の画像が40枚以上ずつ撮影されていること．前者の画像をC_BLOCKEDというディレクトリに，後者の画像はC_FORWARDという名前のディレクトリ内に正しく保存されていること\n",
    "\n",
    "</div>\n",
    "\n"
   ]
  },
  {
   "cell_type": "markdown",
   "metadata": {},
   "source": [
    "ディレクトリ内のファイル数をカウントするプログラムは次のものである\n",
    "`ls -l | wc -l`\n",
    "\n",
    "以下、セルを自分で追加しプログラムを完成させなさい"
   ]
  }
 ],
 "metadata": {
  "kernelspec": {
   "display_name": "Python 3",
   "language": "python",
   "name": "python3"
  },
  "language_info": {
   "codemirror_mode": {
    "name": "ipython",
    "version": 3
   },
   "file_extension": ".py",
   "mimetype": "text/x-python",
   "name": "python",
   "nbconvert_exporter": "python",
   "pygments_lexer": "ipython3",
   "version": "3.6.8"
  }
 },
 "nbformat": 4,
 "nbformat_minor": 2
}
