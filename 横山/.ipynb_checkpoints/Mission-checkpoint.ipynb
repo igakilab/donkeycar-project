{
 "cells": [
  {
   "cell_type": "markdown",
   "metadata": {},
   "source": [
    "<div style=\"padding: 10px; margin-bottom: 10px; border: 1px solid #333333;\">\n",
    "\n",
    "## Mission　駐車\n",
    "\n",
    "概要：前後進と左折と停止を組み合わせたアプリケーションの開発\n",
    "    \n",
    "達成条件：JetBotがオブジェクトを検知していないときに前進する．\n",
    "    \n",
    "　　　　　JetBotが赤いレゴブロックを検知したときに停止する．\n",
    "    \n",
    "　　　　　JetBotが黄色いレゴブロックを検知したときに左に90°回転し，\n",
    "    \n",
    "　　　　　JetBotが２秒間後進したあとJetBotとカメラが停止する．\n",
    "    \n",
    "習得技術：［画像表示］，［ディレクトリの作成］，［画像の保存］，［画像のラベル付け］，［Widgetsによるプログラムの操作］，\n",
    "    \n",
    "　　　　　［ラベル付け画像に基づいた機械学習モデルの訓練］，［ロボットの動作］，［モデルによる撮影画像の判定］，\n",
    "    \n",
    "　　　　　［モデルによる判定結果に基づくロボットカーの制御］\n",
    "    \n",
    "利用機材：JetBot，赤いレゴブロック，黄色いレゴブロック\n",
    "    \n",
    "開発手順：①JetBotの使い方，Jupyter Notebookの使い方を読む\n",
    "    \n",
    "　　　　　②Support Missionを行う\n",
    "    \n",
    "　　　　　③Normal Missionを行う"
   ]
  },
  {
   "cell_type": "code",
   "execution_count": null,
   "metadata": {},
   "outputs": [],
   "source": []
  }
 ],
 "metadata": {
  "kernelspec": {
   "display_name": "Python 3",
   "language": "python",
   "name": "python3"
  },
  "language_info": {
   "codemirror_mode": {
    "name": "ipython",
    "version": 3
   },
   "file_extension": ".py",
   "mimetype": "text/x-python",
   "name": "python",
   "nbconvert_exporter": "python",
   "pygments_lexer": "ipython3",
   "version": "3.6.8"
  }
 },
 "nbformat": 4,
 "nbformat_minor": 2
}
